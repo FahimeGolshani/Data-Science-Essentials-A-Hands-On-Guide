{
  "nbformat": 4,
  "nbformat_minor": 0,
  "metadata": {
    "colab": {
      "provenance": [],
      "authorship_tag": "ABX9TyM91GhnfVEQT4b2pCt2dH6I"
    },
    "kernelspec": {
      "name": "python3",
      "display_name": "Python 3"
    },
    "language_info": {
      "name": "python"
    }
  },
  "cells": [
    {
      "cell_type": "code",
      "execution_count": null,
      "metadata": {
        "id": "6dgk_2ZU5GHO"
      },
      "outputs": [],
      "source": []
    },
    {
      "cell_type": "markdown",
      "source": [
        "\n",
        "## Assignment: Customer Churn Prediction\n",
        "\n",
        "### Objective:\n",
        "The goal of this assignment is to analyze the given Churn dataset, understand customer behavior, and build a predictive model to identify customers who are likely to churn.you can find dataset and additional information about it [here](https://www.kaggle.com/datasets/shrutimechlearn/churn-modelling/data)\n",
        "\n",
        "### Dataset Description:\n",
        "- **Dataset Name:** Churn dataset\n",
        "- **Features:** Various customer-related attributes (e.g., age, balance, credit score, etc.)\n",
        "- **Target Variable:** Binary variable indicating whether the customer left the bank (1) or continues as a customer (0).\n",
        "\n",
        "### Tasks:\n",
        "\n",
        "1. **Data Exploration and Preprocessing:**\n",
        "   - Load the Churn dataset.\n",
        "   - Perform exploratory data analysis (EDA) to understand the dataset's characteristics.\n",
        "   - Check for missing values.\n",
        "   - Explore the distribution of the target variable.\n",
        "\n",
        "2. **Data Visualization:**\n",
        "   - Create visualizations (e.g., bar plots, histograms, correlation matrices) to gain insights into the relationships between different features and the target variable.\n",
        "   - Identify key factors that might influence customer churn with heatmap.\n",
        "\n",
        "3. **Data Splitting:**\n",
        "   - Split the dataset into training and testing sets.\n",
        "\n",
        "4. **Model Building:**\n",
        "   - use ANN for customer churn prediction.\n",
        "   - Train the model using the training dataset.\n",
        "\n",
        "5. **Model Evaluation:**\n",
        "   - Evaluate the model's performance using appropriate metrics (e.g., accuracy, precision, recall, F1 score).\n",
        "   - Interpret the results and discuss the model's strengths and weaknesses.\n",
        "\n",
        "6. **Hyperparameter Tuning (Optional):**\n",
        "   - If applicable, perform hyperparameter tuning to optimize the model's performance.\n",
        "\n",
        "7. **Conclusion:**\n",
        "   - Summarize your findings and propose recommendations based on the insights gained from the analysis and the predictive model.\n",
        "\n",
        "### Submission Guidelines:\n",
        "- Submit a Jupyter Notebook documenting the entire analysis, including code, visualizations, and explanations.\n",
        "- Clearly label different sections, such as Data Exploration, Data Visualization, Model Building, etc.\n",
        "- Include comments and explanations in the code for better understanding.\n",
        "- Provide interpretations and insights in the conclusion section.\n",
        "\n",
        "### Additional Notes:\n",
        "- Feel free to explore additional techniques or algorithms beyond the suggested tasks.\n",
        "- Collaborative discussions among students are encouraged, but each student must submit an individual assignment.\n"
      ],
      "metadata": {
        "id": "u3olu-2u6Ll2"
      }
    },
    {
      "cell_type": "code",
      "source": [],
      "metadata": {
        "id": "Ugh_SluJ61bD"
      },
      "execution_count": null,
      "outputs": []
    }
  ]
}