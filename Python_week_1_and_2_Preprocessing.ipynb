{
  "cells": [
    {
      "cell_type": "markdown",
      "metadata": {
        "id": "view-in-github",
        "colab_type": "text"
      },
      "source": [
        "<a href=\"https://colab.research.google.com/github/FahimeGolshani/Data-Science-Essentials-A-Hands-On-Guide/blob/main/Python_week_1_and_2_Preprocessing.ipynb\" target=\"_parent\"><img src=\"https://colab.research.google.com/assets/colab-badge.svg\" alt=\"Open In Colab\"/></a>"
      ]
    },
    {
      "cell_type": "markdown",
      "metadata": {
        "id": "D9qlHOMX69VG"
      },
      "source": [
        "**First and second session**  \n",
        "\n",
        "\n",
        " Alzahra university\n",
        " winter 2023\n",
        "\n",
        "\n",
        "**Fahimeh Golshani**\n",
        "\n"
      ]
    },
    {
      "cell_type": "markdown",
      "source": [
        "\n",
        "In Python, a DataFrame is a two-dimensional, tabular data structure provided by the pandas library. It is similar to a spreadsheet or SQL table, where data is organized in rows and columns. The pandas library is widely used for data manipulation and analysis, and the DataFrame is one of its fundamental data structures.\n",
        "\n",
        "Key features of a DataFrame:\n",
        "\n",
        "Tabular Structure: A DataFrame is essentially a table with rows and columns. Each column can have a different data type, and the data is arranged in a grid.\n",
        "\n",
        "Labeled Axes: Both rows and columns in a DataFrame have labels, which allows for easy indexing and retrieval of data.\n",
        "\n",
        "Flexibility: DataFrames can hold a variety of data types, including integers, floats, strings, and more. This flexibility makes them suitable for handling diverse datasets.\n",
        "\n",
        "Operations: Pandas provides a wide range of operations and functions that can be applied to DataFrames, including filtering, grouping, merging, and reshaping data.\n",
        "\n",
        "Missing Data Handling: DataFrames handle missing values gracefully and provide methods for filling or removing them."
      ],
      "metadata": {
        "id": "ghPzsbogQws9"
      }
    },
    {
      "cell_type": "markdown",
      "source": [
        "![image.png](data:image/png;base64,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)"
      ],
      "metadata": {
        "id": "o5InibBfMnr2"
      }
    },
    {
      "cell_type": "markdown",
      "metadata": {
        "id": "uATCXrx169VK"
      },
      "source": [
        "\n",
        "\n",
        "Use the [titanic](https://www.kaggle.com/c/titanic/data) dataset from kaggle for this weeks' tutorial."
      ]
    },
    {
      "cell_type": "markdown",
      "metadata": {
        "id": "DFrDW1Gx69VK"
      },
      "source": [
        "## Import pandas"
      ]
    },
    {
      "cell_type": "code",
      "execution_count": null,
      "metadata": {
        "id": "qgjbNIiJ69VL"
      },
      "outputs": [],
      "source": [
        "# Import pandas and label it as 'pd'\n",
        "import pandas as pd\n",
        "\n"
      ]
    },
    {
      "cell_type": "markdown",
      "metadata": {
        "id": "NYa7C7m769VM"
      },
      "source": [
        "## Import data"
      ]
    },
    {
      "cell_type": "code",
      "execution_count": null,
      "metadata": {
        "scrolled": true,
        "id": "3S1j39pc69VM"
      },
      "outputs": [],
      "source": [
        "# Read data via 'pd.read_csv'\n",
        "# Use the appropriate read function for different file formats, for example pd.read_excel allows you to import files in excel format\n",
        "\n",
        "data = pd.read_csv(\"/content/train.csv\")\n"
      ]
    },
    {
      "cell_type": "code",
      "source": [
        "data"
      ],
      "metadata": {
        "id": "jFM6A7qz_3DX"
      },
      "execution_count": null,
      "outputs": []
    },
    {
      "cell_type": "markdown",
      "metadata": {
        "id": "jw76RKub69VN"
      },
      "source": [
        "# Selecting a series/column in a dataframe\n",
        "\n",
        "There are two ways you can select a column of a dataframe.\n",
        "1. data.Name\n",
        "2. data['Name']\n",
        "\n",
        "What is the difference between the two? Well, they both do the exact same thing except the second one is more robust. Here is an example, say I rename the 'PassengerId' column to 'Passenger ID', data.Passenger ID would not work.\n",
        "\n",
        "Let's see it in action."
      ]
    },
    {
      "cell_type": "code",
      "execution_count": null,
      "metadata": {
        "id": "TM8hsp2L69VN"
      },
      "outputs": [],
      "source": [
        "# Let's first try out it out on the Name feature\n",
        "\n",
        "data.Name"
      ]
    },
    {
      "cell_type": "code",
      "execution_count": null,
      "metadata": {
        "id": "5Of0BsAJ69VO"
      },
      "outputs": [],
      "source": [
        "#data['Name']\n",
        "data['Age']"
      ]
    },
    {
      "cell_type": "markdown",
      "metadata": {
        "id": "QV8knJuv69VO"
      },
      "source": [
        "So both ways are able to give us the Name column without any issues."
      ]
    },
    {
      "cell_type": "markdown",
      "source": [
        "# Data Manipulation on Dataset"
      ],
      "metadata": {
        "id": "fVa92syENlXi"
      }
    },
    {
      "cell_type": "code",
      "execution_count": null,
      "metadata": {
        "id": "7y4atmhl69VO"
      },
      "outputs": [],
      "source": [
        "# Rename 'PasengerId' column\n",
        "\n",
        "data.rename(columns = {'PassengerId': 'Passenger ID'}, inplace = True)\n",
        "data.head()"
      ]
    },
    {
      "cell_type": "markdown",
      "source": [],
      "metadata": {
        "id": "dWWNcscbNks7"
      }
    },
    {
      "cell_type": "markdown",
      "metadata": {
        "id": "hJ7IuNC_69VP"
      },
      "source": [
        "**Dropping columns and rows**"
      ]
    },
    {
      "cell_type": "code",
      "source": [
        "data.drop(columns = 'Name')"
      ],
      "metadata": {
        "id": "p05x1lVSAaYK"
      },
      "execution_count": null,
      "outputs": []
    },
    {
      "cell_type": "markdown",
      "metadata": {
        "id": "dRLgPgwQ69VO"
      },
      "source": [
        "Passenger ID column has now been renamed, but not permanently!!!\n",
        "\n",
        "\n"
      ]
    },
    {
      "cell_type": "code",
      "source": [
        "data"
      ],
      "metadata": {
        "id": "dOGYIlFIAq1J"
      },
      "execution_count": null,
      "outputs": []
    },
    {
      "cell_type": "code",
      "source": [
        "# Name is not very important for predicting the target column so we can drop it permanently\n",
        "data.drop(columns = 'Name',inplace= True)"
      ],
      "metadata": {
        "id": "58c8uULKAukw"
      },
      "execution_count": null,
      "outputs": []
    },
    {
      "cell_type": "code",
      "source": [
        "data.head()"
      ],
      "metadata": {
        "id": "5dkK1x-1BGCp"
      },
      "execution_count": null,
      "outputs": []
    },
    {
      "cell_type": "code",
      "source": [
        "#adding a new column\n",
        "data['Familynumber'] = data['SibSp']\t+ data['Parch']\n"
      ],
      "metadata": {
        "id": "roJwOyTSOi9p"
      },
      "execution_count": null,
      "outputs": []
    },
    {
      "cell_type": "code",
      "source": [
        "data"
      ],
      "metadata": {
        "id": "cKYISYx4fqzk"
      },
      "execution_count": null,
      "outputs": []
    },
    {
      "cell_type": "code",
      "source": [
        "\n",
        "data.drop(3,axis=0,inplace= True)\n",
        "data.head()"
      ],
      "metadata": {
        "id": "3pO-_FRUN6zU"
      },
      "execution_count": null,
      "outputs": []
    },
    {
      "cell_type": "code",
      "source": [
        "data.head()"
      ],
      "metadata": {
        "id": "UHEg7ddmPjKd"
      },
      "execution_count": null,
      "outputs": []
    },
    {
      "cell_type": "code",
      "source": [],
      "metadata": {
        "id": "6pSFoh6-TArB"
      },
      "execution_count": null,
      "outputs": []
    },
    {
      "cell_type": "markdown",
      "source": [],
      "metadata": {
        "id": "qJX_Pq0iTBBN"
      }
    },
    {
      "cell_type": "markdown",
      "metadata": {
        "id": "xy5Du5O869VP"
      },
      "source": [
        "## Index-based selection\n",
        "\n",
        "We use iloc to select data based on their numerical position in the dataframe.\n",
        "\n",
        "iloc takes two argument, first is row followed by column. It has a starting index of 0 that is 0 is first, 1 is second, 2 is third and so on."
      ]
    },
    {
      "cell_type": "code",
      "execution_count": null,
      "metadata": {
        "id": "qx0Sx3GF69VP"
      },
      "outputs": [],
      "source": [
        "# First row and all columns\n",
        "\n",
        "data.iloc[0, :]"
      ]
    },
    {
      "cell_type": "code",
      "execution_count": null,
      "metadata": {
        "id": "Wcd9zOwT69VP"
      },
      "outputs": [],
      "source": [
        "# Fourth column that is the Name column and all rows\n",
        "# Since starting index is 0 fourth column corresponds to index number 3\n",
        "\n",
        "data.iloc[:, 3]"
      ]
    },
    {
      "cell_type": "markdown",
      "metadata": {
        "id": "xk6XUnNv69VQ"
      },
      "source": [
        "Suppose we want to select a range of values.\n",
        "\n",
        "iloc includes the first number but exclude the last number of the range. For example, if we want the second and third row of the first column, the code is as follows:"
      ]
    },
    {
      "cell_type": "code",
      "execution_count": null,
      "metadata": {
        "id": "W4KOsCAi69VQ"
      },
      "outputs": [],
      "source": [
        "# Second and third rows of the first\n",
        "\n",
        "data.iloc[1:3, 0]"
      ]
    },
    {
      "cell_type": "markdown",
      "metadata": {
        "id": "ZqVncARE69VQ"
      },
      "source": [
        "We can also pass in a list or series into iloc"
      ]
    },
    {
      "cell_type": "code",
      "execution_count": null,
      "metadata": {
        "scrolled": true,
        "id": "b7LfL5k569VQ"
      },
      "outputs": [],
      "source": [
        "# First three rows and all columns\n",
        "\n",
        "data.iloc[[0, 1, 2], :]"
      ]
    },
    {
      "cell_type": "markdown",
      "metadata": {
        "id": "vpk1zH6C69VQ"
      },
      "source": [
        "We can also go from the bottom of the dataframe."
      ]
    },
    {
      "cell_type": "code",
      "execution_count": null,
      "metadata": {
        "id": "l_5OcN6D69VQ"
      },
      "outputs": [],
      "source": [
        "# Bottom five rows of the dataframe\n",
        "\n",
        "data.iloc[-5:, :]"
      ]
    },
    {
      "cell_type": "code",
      "execution_count": null,
      "metadata": {
        "id": "yjZHH0Oj69VR"
      },
      "outputs": [],
      "source": [
        "# This is the same as using the tail function\n",
        "\n",
        "data.tail()"
      ]
    },
    {
      "cell_type": "markdown",
      "metadata": {
        "id": "WZXWbnEb69VR"
      },
      "source": [
        "## Label-based selection\n",
        "\n",
        "With loc we need to specify the actual name of the column."
      ]
    },
    {
      "cell_type": "code",
      "execution_count": null,
      "metadata": {
        "id": "k-HeLqpi69VR"
      },
      "outputs": [],
      "source": [
        "# First row of the Name column\n",
        "\n",
        "data.loc[0, 'Name']"
      ]
    },
    {
      "cell_type": "markdown",
      "metadata": {
        "id": "15jZiz4B69VR"
      },
      "source": [
        "Different to iloc, when we want to select a range of values, loc includes both the start as well as the end of the range.\n",
        "\n",
        "For example, to get the first 5 rows under iloc we would have data[:5] whereas for loc we have data[:4] instead."
      ]
    },
    {
      "cell_type": "code",
      "execution_count": null,
      "metadata": {
        "id": "vQs5126f69VR"
      },
      "outputs": [],
      "source": [
        "# First 5 rows of the Name, Sex and Age column\n",
        "\n",
        "data.loc[:4, ['Name', 'Sex', 'Age']]"
      ]
    },
    {
      "cell_type": "markdown",
      "metadata": {
        "id": "NBd4psLq69VR"
      },
      "source": [
        "## Conditional Selection(Optional)\n",
        "\n",
        "We can select rows that satisfy certain conditions. In this section, we will look at how that works."
      ]
    },
    {
      "cell_type": "markdown",
      "source": [
        "**Comparison Operators:**\n",
        "\n",
        "These operators return a Boolean value (True or False) based on whether the specified condition is true or false."
      ],
      "metadata": {
        "id": "bKGZqQHODesH"
      }
    },
    {
      "cell_type": "markdown",
      "source": [
        "\n",
        "\n",
        "\n",
        "1.   Equality (==):\n",
        "\n",
        "    Checks if the values on the left and right are equal.\n",
        "\n",
        "2.   Inequality (!=):\n",
        "\n",
        "    Checks if the values on the left and right are not equal.\n",
        "\n",
        "3. Greater Than (>):\n",
        "\n",
        "    Checks if the value on the left is greater than the value on the right.\n",
        "\n",
        "4. Less Than (<):\n",
        "\n",
        "    Checks if the value on the left is less than the value on the right.\n",
        "\n",
        "5. Greater Than or Equal To (>=):\n",
        "\n",
        "    Checks if the value on the left is greater than or equal to the value on the right."
      ],
      "metadata": {
        "id": "AxrtbaqeDlLz"
      }
    },
    {
      "cell_type": "code",
      "execution_count": null,
      "metadata": {
        "scrolled": true,
        "id": "vKrsBHvA69VR"
      },
      "outputs": [],
      "source": [
        "# Rows with age 50\n",
        "\n",
        "data.loc[data['Age'] == 50, :]"
      ]
    },
    {
      "cell_type": "markdown",
      "source": [
        "**Logical Operators:**\n",
        "1. Logical AND (& or and):\n",
        "\n",
        "    Returns True if both conditions on the left and right are true.\n",
        "\n",
        "2. Logical OR (| or or):\n",
        "\n",
        "    Returns True if at least one of the conditions on the left or right is true.\n",
        "3. Logical NOT (not):\n",
        "\n",
        "    Returns True if the condition is false and vice versa."
      ],
      "metadata": {
        "id": "wcWB2VPLFOjt"
      }
    },
    {
      "cell_type": "code",
      "execution_count": null,
      "metadata": {
        "id": "HMppqRB969VR"
      },
      "outputs": [],
      "source": [
        "# Rows with age 50 AND are female\n",
        "# This is a subset of the above dataframe by filtering out females\n",
        "\n",
        "data.loc[(data['Age'] == 50) & (data['Sex'] == 'female') ,:]"
      ]
    },
    {
      "cell_type": "code",
      "execution_count": null,
      "metadata": {
        "scrolled": true,
        "id": "sUz_I5AU69VS"
      },
      "outputs": [],
      "source": [
        "# Rows with age 50 OR have fare greater than or equal to 200\n",
        "\n",
        "data.loc[(data['Age'] == 50) | (data['Fare'] >= 200), :]"
      ]
    },
    {
      "cell_type": "code",
      "execution_count": null,
      "metadata": {
        "id": "GGo7gHY369VS"
      },
      "outputs": [],
      "source": [
        "# All rows with C or Q in Embarked column\n",
        "\n",
        "data.loc[(data['Embarked'] == 'C') | (data['Embarked'] == 'Q'), :]"
      ]
    },
    {
      "cell_type": "markdown",
      "source": [
        "# Exploratory Data Analysis(EDA)"
      ],
      "metadata": {
        "id": "3ldyy43FJt1l"
      }
    },
    {
      "cell_type": "markdown",
      "source": [
        "\n",
        "Exploratory Data Analysis (EDA) is a crucial step in the data analysis process where analysts or data scientists examine and summarize key characteristics and patterns in a dataset. The primary goal of EDA is to gain insights into the data, understand its structure, identify patterns, relationships, and potential outliers, and generate hypotheses for further analysis.\n",
        "\n",
        "Here are some common techniques and activities involved in Exploratory Data Analysis:\n",
        "\n",
        "**Summary Statistics:** Calculate and examine basic statistical measures such as mean, median, mode, standard deviation, range, and quartiles to understand the central tendency and spread of the data.\n",
        "\n",
        "**Data Visualization:** Create graphical representations of the data using charts, graphs, and plots. Visualization helps in identifying patterns, trends, and outliers more effectively than raw data.\n",
        "\n",
        "**Histograms and Density Plots:** Visualize the distribution of individual variables using histograms or density plots to understand the shape of the data.\n",
        "\n",
        "**Scatter Plots:**  Display relationships between two variables to identify potential correlations or patterns.\n",
        "\n",
        "**Box Plots:** Provide a summary of the distribution of a variable and help identify outliers.\n",
        "\n",
        "**Correlation Analysis:** Examine the strength and direction of relationships between variables using correlation coefficients. This helps understand if and how variables are related.\n",
        "\n",
        "**Missing Values Analysis:** Identify and handle missing values in the dataset. Understanding the extent of missing data is crucial for making informed decisions on data imputation or cleaning.\n",
        "\n",
        "**Outlier Detection:** Identify and investigate data points that deviate significantly from the rest of the data. Outliers can provide valuable insights or indicate errors in the data.\n",
        "\n",
        "**Feature Engineering:** Create new features or transform existing ones to better suit the analysis or improve the performance of machine learning models.\n",
        "\n",
        "**Data Transformation:** Standardize or normalize data as needed, especially when dealing with different scales or units.\n",
        "\n",
        "EDA is an iterative process, and the insights gained during this phase often guide subsequent steps in the analysis or modeling process. It helps in formulating hypotheses, making decisions about data preprocessing, and determining the appropriate statistical or machine learning techniques for further analysis."
      ],
      "metadata": {
        "id": "uoJsyS5JJukV"
      }
    },
    {
      "cell_type": "markdown",
      "source": [
        "# **Summary functions**\n",
        "\n",
        "\n",
        "Functions like \"Head and tail\" give us a piece of data\n",
        "\n",
        "\n",
        "Summary functions like  \"describe and info\" give a high-level summary of our data."
      ],
      "metadata": {
        "id": "LRZSgHgeDtD3"
      }
    },
    {
      "cell_type": "code",
      "source": [
        "# 'head' shows the first five rows of the dataframe by default but you can specify the number of rows in the parenthesis\n",
        "data.head()"
      ],
      "metadata": {
        "id": "ad8IMMEeGtqQ"
      },
      "execution_count": null,
      "outputs": []
    },
    {
      "cell_type": "code",
      "source": [
        "data.head(10)"
      ],
      "metadata": {
        "id": "TDzIf_Pq-Qpl"
      },
      "execution_count": null,
      "outputs": []
    },
    {
      "cell_type": "code",
      "source": [
        "# 'tail' shows the bottom five rows by default\n",
        "data.tail()"
      ],
      "metadata": {
        "id": "00G_aTdd-X87"
      },
      "execution_count": null,
      "outputs": []
    },
    {
      "cell_type": "code",
      "source": [
        "# 'shape' function tells us how many rows and columns exist in a dataframe\n",
        "data.shape"
      ],
      "metadata": {
        "id": "QmLI2A4Z-rqG"
      },
      "execution_count": null,
      "outputs": []
    },
    {
      "cell_type": "code",
      "source": [
        "# Info function\n",
        "\n",
        "data.info()"
      ],
      "metadata": {
        "id": "NaDm5dVPGYY2"
      },
      "execution_count": null,
      "outputs": []
    },
    {
      "cell_type": "markdown",
      "source": [
        "**Data types**\n",
        "\n",
        "\n",
        "What are the most common data types that you will see in pandas?\n",
        "\n",
        "\n",
        "\n",
        "\n",
        "\n",
        "\n",
        "\n",
        "1.   int64 (integer)\n",
        "2.   float64 (floating point number)\n",
        "3. object (string)\n",
        "4. datetime (datetime)\n",
        "5. bool (true or false)\n",
        "\n",
        "\n",
        "\n"
      ],
      "metadata": {
        "id": "_wPuHU42TUfI"
      }
    },
    {
      "cell_type": "code",
      "source": [
        "#function dtypes to grab the data type of every column in a data frame.\n",
        "data.dtypes"
      ],
      "metadata": {
        "id": "Wd20kLPhKJeD"
      },
      "execution_count": null,
      "outputs": []
    },
    {
      "cell_type": "markdown",
      "source": [
        "We can convert a column of one type into another using the astype function."
      ],
      "metadata": {
        "id": "ruu5GYAnTczY"
      }
    },
    {
      "cell_type": "code",
      "source": [
        "# Convert the SibSp column into float64 data type\n",
        "\n",
        "data['SibSp'].astype('float64')\n"
      ],
      "metadata": {
        "id": "xnUYXUMiTNfl"
      },
      "execution_count": null,
      "outputs": []
    },
    {
      "cell_type": "code",
      "source": [
        "data['SibSp'].dtypes"
      ],
      "metadata": {
        "id": "YI1-5PquUAV1"
      },
      "execution_count": null,
      "outputs": []
    },
    {
      "cell_type": "markdown",
      "source": [
        "Why it is still int64?!!!!"
      ],
      "metadata": {
        "id": "n_d-oDdTWn-x"
      }
    },
    {
      "cell_type": "code",
      "source": [
        "data['SibSp']=data['SibSp'].astype('float64')"
      ],
      "metadata": {
        "id": "6C_04iVxWw8g"
      },
      "execution_count": null,
      "outputs": []
    },
    {
      "cell_type": "code",
      "source": [
        "data['SibSp'].dtypes"
      ],
      "metadata": {
        "id": "hKvkWe1zW2Tx"
      },
      "execution_count": null,
      "outputs": []
    },
    {
      "cell_type": "code",
      "source": [
        "# What is the oldest age?\n",
        "\n",
        "data['Age'].max()"
      ],
      "metadata": {
        "id": "BD2E8dWKJBRC"
      },
      "execution_count": null,
      "outputs": []
    },
    {
      "cell_type": "code",
      "source": [
        "# What is the youngest age?\n",
        "\n",
        "data['Age'].min()"
      ],
      "metadata": {
        "id": "jbww7sd_JPrP"
      },
      "execution_count": null,
      "outputs": []
    },
    {
      "cell_type": "code",
      "source": [
        "# What is the average age?\n",
        "\n",
        "data['Age'].mean()"
      ],
      "metadata": {
        "id": "k4ynQXzRJWuW"
      },
      "execution_count": null,
      "outputs": []
    },
    {
      "cell_type": "code",
      "source": [
        "# What is the median fare?\n",
        "\n",
        "data['Fare'].median()"
      ],
      "metadata": {
        "id": "VjwfAyNwJaou"
      },
      "execution_count": null,
      "outputs": []
    },
    {
      "cell_type": "code",
      "source": [
        "# What is the most frequent Embarked value?\n",
        "# We can cross check this with the value counts function above\n",
        "# This should return 'S' as the answer\n",
        "\n",
        "data['Embarked'].mode()"
      ],
      "metadata": {
        "id": "9YGVGL5OJb9e"
      },
      "execution_count": null,
      "outputs": []
    },
    {
      "cell_type": "code",
      "source": [
        "\n",
        "# Describe function on all numerical variable\n",
        "\n",
        "data.describe()"
      ],
      "metadata": {
        "id": "laPskzSYCgST"
      },
      "execution_count": null,
      "outputs": []
    },
    {
      "cell_type": "code",
      "source": [
        "data['Fare'].describe()"
      ],
      "metadata": {
        "id": "iLJDHrqCEG3p"
      },
      "execution_count": null,
      "outputs": []
    },
    {
      "cell_type": "code",
      "source": [
        "# Describe function on text variable (object data (e.g. strings or timestamps))\n",
        "#the result’s index will include count, unique, top, and freq.\n",
        "#The top is the most common value.\n",
        "#The freq is the most common value’s frequency.\n",
        "\n",
        "data['Embarked'].describe()"
      ],
      "metadata": {
        "id": "NDORSnKgEnYN"
      },
      "execution_count": null,
      "outputs": []
    },
    {
      "cell_type": "code",
      "source": [
        "data['Embarked']"
      ],
      "metadata": {
        "id": "64H0nqVYE4iI"
      },
      "execution_count": null,
      "outputs": []
    },
    {
      "cell_type": "markdown",
      "source": [
        "### Data Visualizations (Plots)"
      ],
      "metadata": {
        "id": "hvuDvOLJK7Wi"
      }
    },
    {
      "cell_type": "markdown",
      "source": [
        "1-**Categorical Data**\n",
        "Categorical data refers to variables that can take on a limited, and usually fixed, number of distinct categories or levels.\n",
        "There are two main types of categorical data:\n",
        "\n",
        "**Nominal Data:**\n",
        "\n",
        "Nominal data consists of categories with no inherent order or ranking.\n",
        "Examples include gender (male, female), colors (red, blue, green), or types of fruit (apple, banana, orange).\n",
        "Nominal data can be represented using labels or numbers, but the numbers do not imply any inherent order.\n",
        "\n",
        "**Ordinal Data:**\n",
        "\n",
        "\n",
        "Ordinal data, on the other hand, has categories with a meaningful order or ranking.\n",
        "While the differences between categories are not precisely quantifiable, there is a clear order or hierarchy.\n",
        "Examples include education levels (e.g., high school, college, graduate), customer satisfaction ratings (e.g., poor, fair, good, excellent), or socioeconomic status (low, medium, high).\n",
        "\n",
        "Categorical data is common in various fields, including social sciences, marketing, biology, and more. Analyzing and visualizing categorical data often involve using frequency tables, bar charts, pie charts, and other graphical representations to illustrate the distribution of data across different categories.\n",
        "\n",
        "When working with categorical data in statistical analyses or machine learning models, it is common to encode these categories into numerical values through a process called \"label encoding\" or \"one-hot encoding\" to facilitate computations and model training.\n",
        "\n",
        "\n",
        "\n",
        "\n",
        "\n"
      ],
      "metadata": {
        "id": "ZtCa6I0_O-JG"
      }
    },
    {
      "cell_type": "markdown",
      "source": [
        "1. CountPlot:\n",
        "\n",
        " The countplot function is used to show the counts of observations in each categorical bin using bars."
      ],
      "metadata": {
        "id": "5zKyQapmPuZT"
      }
    },
    {
      "cell_type": "code",
      "source": [
        "import seaborn as sns\n",
        "import matplotlib.pyplot as plt\n",
        "\n",
        "sns.countplot(data = data, x=\"SibSp\")\n"
      ],
      "metadata": {
        "id": "wfJXmhYZPCdF"
      },
      "execution_count": null,
      "outputs": []
    },
    {
      "cell_type": "code",
      "source": [
        "sns.countplot(data = data, x=\"Survived\")\n",
        "\n"
      ],
      "metadata": {
        "id": "0WUPfm3NQ5kn"
      },
      "execution_count": null,
      "outputs": []
    },
    {
      "cell_type": "markdown",
      "source": [
        "2. pie chart"
      ],
      "metadata": {
        "id": "ApFLICj3QdEf"
      }
    },
    {
      "cell_type": "code",
      "source": [
        "data['Survived'].value_counts().plot(kind='pie', autopct='%.2f')\n"
      ],
      "metadata": {
        "id": "ThOul0tJQXYq"
      },
      "execution_count": null,
      "outputs": []
    },
    {
      "cell_type": "markdown",
      "source": [
        "3. mosaic plot:\n",
        "to visualize the association between two categorical variables you can use a mosaic plot or a grouped bar chart."
      ],
      "metadata": {
        "id": "t_Dm0YjncLfM"
      }
    },
    {
      "cell_type": "code",
      "source": [
        "\n",
        "sns.set(style=\"whitegrid\")\n",
        "\n",
        "# Create a mosaic plot using seaborn\n",
        "sns.catplot(x='Pclass', hue='Survived', data=data, kind='count', height=6, aspect=1.5, palette='pastel')\n",
        "\n",
        "# Add labels and title\n",
        "plt.xlabel('Pclass')\n",
        "plt.ylabel('Count')\n",
        "plt.title('Mosaic Plot of Survival by Passenger Class')\n",
        "\n",
        "# Show the plot\n",
        "plt.show()"
      ],
      "metadata": {
        "id": "gyc-toJSbdv_"
      },
      "execution_count": null,
      "outputs": []
    },
    {
      "cell_type": "code",
      "source": [
        "sns.set(style=\"whitegrid\")\n",
        "\n",
        "# Create a mosaic plot using seaborn\n",
        "sns.catplot(x='Embarked', hue='Survived', data=data, kind='count', height=6, aspect=1.5, palette='bright')\n",
        "\n",
        "# Add labels and title\n",
        "plt.xlabel('Embarked')\n",
        "plt.ylabel('Count')\n",
        "plt.title('Mosaic Plot of Survival by Embarked Port')\n",
        "\n",
        "# Show the plot\n",
        "plt.show()"
      ],
      "metadata": {
        "id": "sBrZABlzb6Mg"
      },
      "execution_count": null,
      "outputs": []
    },
    {
      "cell_type": "code",
      "source": [
        "sns.set(style=\"whitegrid\")\n",
        "\n",
        "# Create a mosaic plot using seaborn\n",
        "sns.catplot(x='Sex', hue='Survived', data=data, kind='count', height=6, aspect=1.5)\n",
        "\n",
        "# Add labels and title\n",
        "plt.xlabel('Sex')\n",
        "plt.ylabel('Count')\n",
        "plt.title('Mosaic Plot of Survival by gender')\n",
        "\n",
        "# Show the plot\n",
        "plt.show()"
      ],
      "metadata": {
        "id": "renNP6WWw7vn"
      },
      "execution_count": null,
      "outputs": []
    },
    {
      "cell_type": "markdown",
      "source": [
        "**2. Numerical Data**"
      ],
      "metadata": {
        "id": "7WXth0HMQw3L"
      }
    },
    {
      "cell_type": "markdown",
      "source": [
        "1- histogram:\n",
        "\n",
        " is a graphical representation of the distribution of a dataset. It is used to visualize the underlying frequency distribution of a continuous or discrete variable. The data is divided into intervals or bins, and the frequency (or count) of observations falling into each bin is represented by the height of a bar."
      ],
      "metadata": {
        "id": "bnZWjPw7SKV8"
      }
    },
    {
      "cell_type": "code",
      "source": [
        "# Create a histogram for the 'Age' column\n",
        "plt.hist(data['Age'], bins=60, color='red', edgecolor='black')\n",
        "\n",
        "# Add labels and title\n",
        "plt.xlabel('Age')\n",
        "plt.ylabel('Frequency')\n",
        "plt.title('Histogram of Age')\n",
        "\n",
        "# Show the plot\n",
        "plt.show()"
      ],
      "metadata": {
        "id": "2tNEu8JjQvnx"
      },
      "execution_count": null,
      "outputs": []
    },
    {
      "cell_type": "markdown",
      "source": [
        "2. Displot:\n",
        "\n",
        " It can be used to visualize the distribution of a single variable and, optionally, compare it across different subsets of the data."
      ],
      "metadata": {
        "id": "O7MSXBI0S36f"
      }
    },
    {
      "cell_type": "code",
      "source": [
        "sns.displot(data=data, x='Age',kde=True)"
      ],
      "metadata": {
        "id": "lfG1wKIyTMh2"
      },
      "execution_count": null,
      "outputs": []
    },
    {
      "cell_type": "code",
      "source": [
        "#  This allows you to visually compare the distributions of ages for those who survived and those who did not survive.\n",
        "# The hue parameter helps distinguish the two distributions by coloring them differently.\n",
        "sns.displot(data=data, x='Age',kind=\"kde\",hue=\"Survived\")\n"
      ],
      "metadata": {
        "id": "bwL5MzgwOsXm"
      },
      "execution_count": null,
      "outputs": []
    },
    {
      "cell_type": "markdown",
      "source": [
        "The next piece of code allows you to visually compare the age distributions for survivors and non-survivors within each gender group.\n",
        "\n",
        "The \"col\" parameter is especially useful for creating conditional plots that show the distribution of a variable across different levels of another variable. In this case, it helps analyze the relationship between age, survival status, and gender."
      ],
      "metadata": {
        "id": "aIgPLXnxU4b9"
      }
    },
    {
      "cell_type": "code",
      "source": [
        "sns.displot(data=data, x='Age',kind=\"kde\",hue=\"Survived\",col=\"Sex\")"
      ],
      "metadata": {
        "id": "L2arCVLBUldg"
      },
      "execution_count": null,
      "outputs": []
    },
    {
      "cell_type": "markdown",
      "source": [
        "3. box plot:\n",
        "\n",
        "A box plot (or box-and-whisker plot) is a graphical representation of the distribution of a dataset. It displays the summary statistics of a variable, such as the median, quartiles, and potential outliers. Seaborn provides the boxplot function to create box plots."
      ],
      "metadata": {
        "id": "oDyBdwEYVR8z"
      }
    },
    {
      "cell_type": "code",
      "source": [
        "sns.boxplot(data = data, x = \"Age\")"
      ],
      "metadata": {
        "id": "kjT8b6ncVUNi"
      },
      "execution_count": null,
      "outputs": []
    },
    {
      "cell_type": "markdown",
      "source": [
        "4. **Heatmap**\n",
        "\n",
        "visually represents the correlation between pairs of variables in your dataset.\n",
        "Positive correlation (values close to 1 and typically shown in warmer colors (e.g., red)) suggests that as one variable increases, the other variable tends to increase as well.\n",
        "Negative correlation (values close to -1 and typically shown in cooler colors (e.g., blue)) suggests that as one variable increases, the other variable tends to decrease.\n",
        "A correlation close to 0 indicates a weak or no linear relationship."
      ],
      "metadata": {
        "id": "X4SBr8_ZWvTo"
      }
    },
    {
      "source": [
        "# Calculate the correlation matrix\n",
        "correlation_matrix = data.corr()\n",
        "\n",
        "# Set up the matplotlib figure\n",
        "plt.figure(figsize=(10, 8))\n",
        "\n",
        "# Create a heatmap using seaborn\n",
        "sns.heatmap(correlation_matrix, annot=True, cmap='coolwarm', fmt=\".2f\", linewidths=.5, cbar_kws={\"shrink\": 0.75})\n",
        "\n",
        "# Set the title of the heatmap\n",
        "plt.title('Correlation Heatmap')\n",
        "\n",
        "# Show the plot\n",
        "plt.show()\n"
      ],
      "cell_type": "code",
      "metadata": {
        "id": "SGVyiScVNCxW"
      },
      "execution_count": null,
      "outputs": []
    },
    {
      "cell_type": "markdown",
      "source": [
        "Using Colab visualization"
      ],
      "metadata": {
        "id": "9aRaLy4BOr72"
      }
    },
    {
      "cell_type": "code",
      "source": [
        "data"
      ],
      "metadata": {
        "id": "Oh6ydtg9MNIu"
      },
      "execution_count": null,
      "outputs": []
    },
    {
      "cell_type": "markdown",
      "source": [
        "## Feature Engineering\n",
        "\n",
        "\n",
        "Feature engineering is the process of transforming raw data into features that can be used to improve the performance of a machine learning model. It involves creating new variables (features) from the existing ones or modifying the existing features in a way that enhances the model's ability to make predictions. Effective feature engineering can significantly impact the success of a machine learning model.\n",
        "some common techniques and concepts associated with feature engineering:\n",
        "\n",
        "**Handling Missing Data:**\n",
        "\n",
        "\n",
        "Dealing with missing values in a meaningful way, such as imputing missing values based on other features or using techniques like mean, median, or machine learning-based imputation.\n",
        "\n",
        "**Encoding Categorical Variables:**\n",
        "\n",
        "\n",
        "Converting categorical variables into a numerical format that can be understood by machine learning algorithms. This may involve one-hot encoding, label encoding, or other methods.\n",
        "\n",
        "**Feature Scaling:**\n",
        "\n",
        "Scaling numerical features to a standard range (e.g., normalizing or standardizing) to ensure that all features contribute equally to the model.\n",
        "\n",
        "**Creating Interaction Terms:**\n",
        "\n",
        "\n",
        "Combining two or more features to create new features that may capture interactions or relationships not evident in the individual features.\n",
        "\n",
        "**Binning or Discretization:**\n",
        "\n",
        "\n",
        "Grouping continuous features into bins or discrete categories to capture patterns or trends that might be overlooked in a continuous form.\n",
        "\n",
        "**Transforming Variables:**\n",
        "\n",
        "\n",
        "Applying mathematical transformations to variables, such as taking logarithms, square roots, or other functions, to make the data more amenable to modeling assumptions.\n",
        "\n",
        "**Feature Extraction:**\n",
        "\n",
        "Reducing the dimensionality of the data by extracting important information from features. Techniques like Principal Component Analysis (PCA) or extracting features from text data using techniques like TF-IDF can be considered.\n",
        "\n",
        "**Temporal Features:**\n",
        "\n",
        "\n",
        "Extracting features related to time, such as day of the week, month, or time elapsed since a specific event, which can be valuable in time-series analysis.\n",
        "\n",
        "**Domain-Specific Features:**\n",
        "\n",
        "\n",
        "Creating features based on domain-specific knowledge. This involves incorporating knowledge about the problem or industry to engineer features that might be particularly relevant to the task.\n",
        "\n",
        "**Handling Outliers:**\n",
        "\n",
        "Identifying and handling outliers in the data. This might involve capping extreme values, transforming the data, or creating new features that are robust to outliers.\n",
        "\n",
        "\n",
        "Feature engineering is often an iterative process that involves experimenting with different transformations and analyzing their impact on the model's performance. It requires a good understanding of the data and the problem at hand. Effective feature engineering can lead to better model interpretability, generalization, and predictive performance."
      ],
      "metadata": {
        "id": "9k0A1hS24YZQ"
      }
    },
    {
      "cell_type": "markdown",
      "source": [
        "# Missing values\n",
        "NaN stands for \"Not a Number.\" In the context of data analysis and pandas, NaN is often used to indicate missing or undefined values in a DataFrame. For example, if you load a dataset and some values are missing, pandas may represent those missing values as NaN.\n"
      ],
      "metadata": {
        "id": "5FrYgjSya-Nm"
      }
    },
    {
      "cell_type": "markdown",
      "source": [
        "the NaN in the DataFrame indicates missing values. It's important to handle NaN values appropriately during data analysis, as they can impact calculations and statistical operations."
      ],
      "metadata": {
        "id": "nzZSpFQebc3S"
      }
    },
    {
      "cell_type": "markdown",
      "source": [
        "First let's recall how we can figure out how many null values are there in our dataframe."
      ],
      "metadata": {
        "id": "dqMeubAFbnwK"
      }
    },
    {
      "cell_type": "code",
      "source": [
        "# How many null values are there in our dataframe?\n",
        "\n",
        "data.isnull().sum()"
      ],
      "metadata": {
        "id": "Ihhlpv5Nawzm"
      },
      "execution_count": null,
      "outputs": []
    },
    {
      "cell_type": "code",
      "execution_count": null,
      "metadata": {
        "scrolled": true,
        "id": "4flBiZbe69VS"
      },
      "outputs": [],
      "source": [
        "# All the rows with null Age column\n",
        "\n",
        "data.loc[data['Age'].isnull(), :]"
      ]
    },
    {
      "cell_type": "markdown",
      "metadata": {
        "id": "GAvqFxWF69VS"
      },
      "source": [
        "The exact opposite to the isnull function is the notnull function which returns series without any null values."
      ]
    },
    {
      "cell_type": "markdown",
      "source": [
        "# Dealing with missing values\n",
        "There are mainly two ways to deal with missing data.\n",
        "\n",
        "Drop the rows or columns which contain missing data\n",
        "Replace missing data with substituted values also known as imputation\n",
        "Both methods have their own individual pros and cons. Which of the two methods you use will be highly dependent on your data as well as the nature of the problem you are trying to solve. If you are working on detailed piece of analysis, this is where you would take the time to really understand each column to figure out the best strategy to handle those missing values.\n",
        "\n",
        "Generally speaking, dropping data is much easier and straightforward to implement but it does come at the expense of removing potentially useful information from our dataset. This will adversely affect model performance which then leads to inaccurate model predictions.\n",
        "\n",
        "On the other hand, choosing the best way to impute or replace those missing values require more time, consideration and experience. I will briefly touch upon the different ways to impute missing values in the later part of this notebook.\n",
        "\n",
        "\n",
        "**Method 1:** Drop rows or columns with missing values\n",
        "If you are in a hurry or don't have a reason to figure out why your values are missing, one option is to remove rows or columns that contain missing values. However, this is not the best approach in most cases because we might lose potentially useful information in our dataset.\n",
        "\n",
        "Let's see how we can drop rows and columns with missing values using the dropna function."
      ],
      "metadata": {
        "id": "go_Gy3nicLTw"
      }
    },
    {
      "cell_type": "code",
      "source": [
        "# Remove rows with any missing values\n",
        "#data.dropna(inplace=True)\n",
        "\n",
        "# Remove columns with any missing values\n",
        "#data.dropna(axis=1, inplace=True)"
      ],
      "metadata": {
        "id": "tnLLiLp5cMQH"
      },
      "execution_count": null,
      "outputs": []
    },
    {
      "cell_type": "code",
      "source": [],
      "metadata": {
        "id": "VA7K_tuSu9Kh"
      },
      "execution_count": null,
      "outputs": []
    },
    {
      "cell_type": "code",
      "source": [
        "data['Cabin'].isnull().sum()"
      ],
      "metadata": {
        "id": "kCBw1zKDugJd"
      },
      "execution_count": null,
      "outputs": []
    },
    {
      "cell_type": "code",
      "source": [
        "data['Cabin'].describe()"
      ],
      "metadata": {
        "id": "KGNxRwO4MKnN"
      },
      "execution_count": null,
      "outputs": []
    },
    {
      "cell_type": "code",
      "source": [
        "# Cabin is not very important for predicting the target column as it has more than 50% Nan values so we can drop it permanently\n",
        "#If a column has a high percentage of missing values or is mostly constant, it may not contribute much to the analysis.\n",
        "data.drop(columns = 'Cabin',inplace= True)"
      ],
      "metadata": {
        "id": "PRzhgFA0aiBr"
      },
      "execution_count": null,
      "outputs": []
    },
    {
      "cell_type": "markdown",
      "source": [
        "**Method2: Impute Missing Values:**\n",
        "\n",
        "Imputation involves replacing missing values with estimated or calculated values. Common imputation methods include:\n",
        "\n",
        "Mean/Median/Mode Imputation:\n",
        "Replace missing values with the mean, median, or mode of the respective column or even with the help of other columns."
      ],
      "metadata": {
        "id": "5nXcQ3Er0KaN"
      }
    },
    {
      "cell_type": "code",
      "source": [
        "# Replace missing values with the mean, median, or mode of the respective column\n",
        "#data['Age'].fillna(data['Age'].mean(), inplace=True)"
      ],
      "metadata": {
        "id": "u0Afpv7BdBoN"
      },
      "execution_count": null,
      "outputs": []
    },
    {
      "cell_type": "code",
      "source": [
        "#data['Age'].isnull()"
      ],
      "metadata": {
        "id": "FlS8t_GHJXBl"
      },
      "execution_count": null,
      "outputs": []
    },
    {
      "cell_type": "code",
      "source": [
        "#data['Age'].fillna(data['Age'].median(), inplace=True)\n"
      ],
      "metadata": {
        "id": "e199GhB-004O"
      },
      "execution_count": null,
      "outputs": []
    },
    {
      "cell_type": "markdown",
      "source": [
        "Replace missing values with the help of other columns. for example here we can check the average age by passenger class. and fill the Nan value with that"
      ],
      "metadata": {
        "id": "Z6dVVtwj1bvz"
      }
    },
    {
      "cell_type": "code",
      "source": [
        "plt.figure(figsize=(12, 7))\n",
        "sns.boxplot(x='Pclass',y='Age',data=data ,palette='winter')"
      ],
      "metadata": {
        "id": "ZoLcpn6C1yIt"
      },
      "execution_count": null,
      "outputs": []
    },
    {
      "cell_type": "code",
      "source": [
        "def impute_age(cols):\n",
        "    Age = cols[0]\n",
        "    Pclass = cols[1]\n",
        "\n",
        "    if pd.isnull(Age):\n",
        "\n",
        "        if Pclass == 1:\n",
        "            return 37\n",
        "\n",
        "        elif Pclass == 2:\n",
        "            return 29\n",
        "\n",
        "        else:\n",
        "            return 24\n",
        "\n",
        "    else:\n",
        "        return Age"
      ],
      "metadata": {
        "id": "pEL93yRt1_qT"
      },
      "execution_count": null,
      "outputs": []
    },
    {
      "cell_type": "code",
      "source": [
        "data['Age'] = data[['Age','Pclass']].apply(impute_age,axis=1)"
      ],
      "metadata": {
        "id": "hev0UFMO2xy8"
      },
      "execution_count": null,
      "outputs": []
    },
    {
      "cell_type": "markdown",
      "source": [
        "**Method 3: Forward Fill or Backward Fill:**\n",
        "Propagate the last known value forward or the next known value backward."
      ],
      "metadata": {
        "id": "iQ9KjSkt1N7v"
      }
    },
    {
      "cell_type": "code",
      "source": [
        "# Backward fill: replaces missing values with the next known non-missing value in the column.\n",
        "\n",
        "#data['Age'].fillna(method='bfill', inplace=True)"
      ],
      "metadata": {
        "id": "OozNBVzt06-X"
      },
      "execution_count": null,
      "outputs": []
    },
    {
      "cell_type": "markdown",
      "source": [],
      "metadata": {
        "id": "VRHc19QMNOdn"
      }
    },
    {
      "cell_type": "code",
      "source": [
        "# Forward fill: replaces missing values with the last known non-missing value in the column.\n",
        "data['Embarked'].fillna(method='ffill', inplace=True)\n"
      ],
      "metadata": {
        "id": "oDYL4WR21XKw"
      },
      "execution_count": null,
      "outputs": []
    },
    {
      "cell_type": "markdown",
      "source": [
        "It's important to note that while forward fill and backward fill are convenient for handling missing values in time series data, they may not be suitable for all datasets. The choice between forward fill, backward fill, or other imputation methods depends on the specific characteristics of the data and the goals of the analysis."
      ],
      "metadata": {
        "id": "NqvMeG7U11lT"
      }
    },
    {
      "cell_type": "markdown",
      "source": [
        "There are other methods and technique as well:such as: \"Interpolation,identify an Indicator for Missing Values and Advanced Imputation Techniques\""
      ],
      "metadata": {
        "id": "YG_n9SP-OaOa"
      }
    },
    {
      "cell_type": "markdown",
      "source": [
        "Id columns usually are not important, so we can drop them."
      ],
      "metadata": {
        "id": "1UjnH30N7Ih8"
      }
    },
    {
      "cell_type": "code",
      "source": [
        "data['PassengerId']"
      ],
      "metadata": {
        "id": "xkykX45F7q1-"
      },
      "execution_count": null,
      "outputs": []
    },
    {
      "cell_type": "code",
      "source": [
        "data.drop(columns = ['Ticket','PassengerId'],inplace= True)"
      ],
      "metadata": {
        "id": "4kbZnM744RDM"
      },
      "execution_count": null,
      "outputs": []
    },
    {
      "cell_type": "code",
      "source": [
        "data"
      ],
      "metadata": {
        "id": "gPygqI748H1s"
      },
      "execution_count": null,
      "outputs": []
    },
    {
      "cell_type": "markdown",
      "source": [
        "**Converting categorical features**\n",
        "\n",
        " is a crucial step in the feature engineering process, as many machine learning algorithms require numerical input. There are several common techniques for converting categorical features into a format that can be used in machine learning models:\n",
        "\n",
        "One-Hot Encoding:\n",
        "\n",
        "This method creates binary columns for each category and indicates the presence of the category with a 1 or 0. It is suitable for nominal categorical variables (categories with no inherent order).\n",
        "python\n"
      ],
      "metadata": {
        "id": "zO92JVtfOgEl"
      }
    },
    {
      "cell_type": "code",
      "source": [
        "\n",
        "data = pd.get_dummies(data, columns=['Embarked'], prefix='Embarked')"
      ],
      "metadata": {
        "id": "vUFomTc2Ofc1"
      },
      "execution_count": null,
      "outputs": []
    },
    {
      "cell_type": "code",
      "source": [
        "data=pd.get_dummies(data, columns=['Sex'], prefix=['Sex'])"
      ],
      "metadata": {
        "id": "0ghVytcwOfLz"
      },
      "execution_count": null,
      "outputs": []
    },
    {
      "cell_type": "code",
      "source": [
        "data=pd.get_dummies(data, columns=['Pclass'], prefix=['Pclass'])"
      ],
      "metadata": {
        "id": "UqTAylMyRPQW"
      },
      "execution_count": null,
      "outputs": []
    },
    {
      "cell_type": "code",
      "source": [
        "data.head()"
      ],
      "metadata": {
        "id": "neGaFHk3Oe6l"
      },
      "execution_count": null,
      "outputs": []
    },
    {
      "cell_type": "code",
      "source": [
        "data.isnull().sum()"
      ],
      "metadata": {
        "id": "oWvjKR_IG2vk"
      },
      "execution_count": null,
      "outputs": []
    },
    {
      "cell_type": "markdown",
      "source": [],
      "metadata": {
        "id": "hbJK6fxrhGW8"
      }
    },
    {
      "cell_type": "markdown",
      "source": [
        "## How to Save your dataframe"
      ],
      "metadata": {
        "id": "LVVVUXuTSSp9"
      }
    },
    {
      "cell_type": "markdown",
      "source": [
        "In Google Colab, you can save your DataFrame to a file using various formats such as CSV, Excel, or even in a more efficient binary format like Parquet or Feather."
      ],
      "metadata": {
        "id": "JrrQLYsCTwOz"
      }
    },
    {
      "cell_type": "code",
      "source": [
        "data.to_csv('/post-processingTatanic.csv', index=False)"
      ],
      "metadata": {
        "id": "XSG_jP6sSmfR"
      },
      "execution_count": null,
      "outputs": []
    },
    {
      "cell_type": "markdown",
      "source": [],
      "metadata": {
        "id": "qPnr9G_HdCsG"
      }
    },
    {
      "cell_type": "markdown",
      "source": [],
      "metadata": {
        "id": "B542wZlrOYy0"
      }
    }
  ],
  "metadata": {
    "kernelspec": {
      "display_name": "Python 3",
      "language": "python",
      "name": "python3"
    },
    "language_info": {
      "codemirror_mode": {
        "name": "ipython",
        "version": 3
      },
      "file_extension": ".py",
      "mimetype": "text/x-python",
      "name": "python",
      "nbconvert_exporter": "python",
      "pygments_lexer": "ipython3",
      "version": "3.7.6"
    },
    "colab": {
      "provenance": [],
      "collapsed_sections": [
        "xy5Du5O869VP"
      ],
      "include_colab_link": true
    }
  },
  "nbformat": 4,
  "nbformat_minor": 0
}